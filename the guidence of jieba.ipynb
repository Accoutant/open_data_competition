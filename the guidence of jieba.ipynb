{
 "cells": [
  {
   "cell_type": "code",
   "execution_count": 10,
   "metadata": {},
   "outputs": [
    {
     "data": {
      "text/plain": [
       "['中国', '是', '一个', '伟大', '的', '国家']"
      ]
     },
     "execution_count": 10,
     "metadata": {},
     "output_type": "execute_result"
    }
   ],
   "source": [
    "import jieba\n",
    "jieba.lcut('中国是一个伟大的国家')"
   ]
  },
  {
   "cell_type": "code",
   "execution_count": 11,
   "metadata": {},
   "outputs": [
    {
     "data": {
      "text/plain": [
       "<generator object Tokenizer.cut at 0x00000232B333CD60>"
      ]
     },
     "execution_count": 11,
     "metadata": {},
     "output_type": "execute_result"
    }
   ],
   "source": [
    "jieba.cut('我来到北京清华大学')"
   ]
  },
  {
   "cell_type": "code",
   "execution_count": 12,
   "metadata": {},
   "outputs": [
    {
     "name": "stdout",
     "output_type": "stream",
     "text": [
      "Default_Mode:我,来到,北京,清华大学\n"
     ]
    }
   ],
   "source": [
    "seg_list=jieba.cut('我来到北京清华大学')\n",
    "print('Default_Mode:' + ','.join(seg_list))"
   ]
  },
  {
   "cell_type": "code",
   "execution_count": 13,
   "metadata": {},
   "outputs": [
    {
     "name": "stdout",
     "output_type": "stream",
     "text": [
      "Full_Mode:我,来到,吉林,吉林省,省长,长春,长春市,高新,高新技术,技术,技术开发,技术开发区,开发,开发区,光谷,大街,1188,号\n"
     ]
    }
   ],
   "source": [
    "seg_list=jieba.cut('我来到吉林省长春市高新技术开发区光谷大街1188号', cut_all=True)\n",
    "print('Full_Mode:' + ','.join(seg_list))\n",
    "#! 显然全模式遍历后输出全部可能词语"
   ]
  },
  {
   "cell_type": "code",
   "execution_count": 14,
   "metadata": {},
   "outputs": [
    {
     "name": "stdout",
     "output_type": "stream",
     "text": [
      "小明,硕士,毕业,于,中国,科学,学院,科学院,中国科学院,计算,计算所,，,后,在,日本,京都,大学,日本京都大学,深造\n"
     ]
    }
   ],
   "source": [
    "seg_list=jieba.cut_for_search('小明硕士毕业于中国科学院计算所，后在日本京都大学深造')\n",
    "print(','.join(seg_list))\n",
    "#! 搜索引擎模式只有长词再划分"
   ]
  }
 ],
 "metadata": {
  "kernelspec": {
   "display_name": "MLPython",
   "language": "python",
   "name": "python3"
  },
  "language_info": {
   "codemirror_mode": {
    "name": "ipython",
    "version": 3
   },
   "file_extension": ".py",
   "mimetype": "text/x-python",
   "name": "python",
   "nbconvert_exporter": "python",
   "pygments_lexer": "ipython3",
   "version": "3.9.18"
  }
 },
 "nbformat": 4,
 "nbformat_minor": 2
}
